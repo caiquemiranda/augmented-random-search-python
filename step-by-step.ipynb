{
 "cells": [
  {
   "cell_type": "code",
   "execution_count": 1,
   "metadata": {},
   "outputs": [],
   "source": [
    "# importação das bibliotecas\n",
    "import os\n",
    "import numpy as np"
   ]
  },
  {
   "cell_type": "code",
   "execution_count": 2,
   "metadata": {},
   "outputs": [],
   "source": [
    "# configuração dos hiperparametros\n",
    "class Hp():\n",
    "    def __init__(self):\n",
    "        self.nb_steps = 1000 # numero de episódios\n",
    "        self.episode_lenght = 1000 # máxima duração dos episódios\n",
    "        self.learning_rate = 0.02 # taxa de aprendizado\n",
    "        self.nb_directions = 16 # numero de direções, matrizes de perturbações contruidas\n",
    "        self.nb_best_directions = 16 # mellhores recompensas\n",
    "        assert self.nb_best_directions <= self.nb_directions # garantir que o best directions é menor que o directions\n",
    "        self.noise = 0.03 # ruido, filtro de variancia nos dados\n",
    "        self.seed = 1 # manter os resultados\n",
    "        self.env_name = ''"
   ]
  },
  {
   "cell_type": "code",
   "execution_count": 3,
   "metadata": {},
   "outputs": [],
   "source": [
    "# normalização dos estados\n",
    "class Normalizer():\n",
    "    def __init__(self, nb_inputs):\n",
    "        self.n = np.zeros(nb_inputs) # numero de entradas, inicializando com valores 0\n",
    "        self.mean = np.zeros(nb_inputs) \n",
    "        self.mean_diff = np.zeros(nb_inputs)\n",
    "        self.var = np.zeros(nb_inputs)\n",
    "    \n",
    "    def observ(self, x): # x será um vetor\n",
    "        self.n += 1.\n",
    "        last_mean = self.mean.copy()\n",
    "        self.mean += (x - self.mean) / self.n\n",
    "        self.mean_diff += (x - last_mean) * (x - self.mean)\n",
    "        self.var = (self.mean / self.n).clip(min = 1e-2) # não pode ser menor que 0.001\n",
    "\n",
    "    def normailize(self, inputs):\n",
    "        obs_mean = self.mean\n",
    "        obs_std = np.sqrt(self.var)\n",
    "        return (inputs - obs_mean) / obs_std    "
   ]
  },
  {
   "cell_type": "code",
   "execution_count": null,
   "metadata": {},
   "outputs": [],
   "source": [
    "# contrução da Inteligência\n",
    "class Policy():\n",
    "    def __init__(self, input_size, output_size):\n",
    "        self.theta = np.zeros((output_size, input_size)) # matriz de pesos\n",
    "    \n",
    "    def evaluate(self, input, delta = None, direction = None):\n",
    "        if direction is None:\n",
    "            return self.theta.dot(input)\n",
    "        \n",
    "        elif direction == 'positive':\n",
    "            return (self.theta + hp.noise * delta).dot(input)\n",
    "\n",
    "        else:\n",
    "            return (self.theta - hp.noise * delta).dot(input)\n",
    "\n"
   ]
  }
 ],
 "metadata": {
  "interpreter": {
   "hash": "b3ba2566441a7c06988d0923437866b63cedc61552a5af99d1f4fb67d367b25f"
  },
  "kernelspec": {
   "display_name": "Python 3.8.8 ('base')",
   "language": "python",
   "name": "python3"
  },
  "language_info": {
   "codemirror_mode": {
    "name": "ipython",
    "version": 3
   },
   "file_extension": ".py",
   "mimetype": "text/x-python",
   "name": "python",
   "nbconvert_exporter": "python",
   "pygments_lexer": "ipython3",
   "version": "3.8.11"
  },
  "orig_nbformat": 4
 },
 "nbformat": 4,
 "nbformat_minor": 2
}
